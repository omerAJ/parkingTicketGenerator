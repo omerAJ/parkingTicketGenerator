{
 "cells": [
  {
   "cell_type": "code",
   "execution_count": 2,
   "metadata": {},
   "outputs": [
    {
     "name": "stderr",
     "output_type": "stream",
     "text": [
      "YOLOv5  2023-3-26 Python-3.11.8 torch-2.2.1+cu121 CUDA:0 (NVIDIA GeForce RTX 4090, 24564MiB)\n",
      "\n",
      "Fusing layers... \n",
      "custom_YOLOv5s summary: 232 layers, 7268094 parameters, 0 gradients\n"
     ]
    }
   ],
   "source": [
    "from detector import Detector\n",
    "from detector_lpr import LicensePlateReader\n",
    "\n",
    "detector = Detector()\n",
    "detector_lpr = LicensePlateReader(r\"D:\\omer\\parkingEntrance\\trained_models\\best_v8.pt\")\n",
    "\n",
    "def read_license_plate_number(img, char_threshold):\n",
    "    cv2.namedWindow('img', cv2.WINDOW_NORMAL)\n",
    "    cv2.resizeWindow('img', 1920, 1080)\n",
    "    plate_reading = 'NA'\n",
    "    \n",
    "    # detect plate\n",
    "    bboxes = detector.detect(img)\n",
    "    \n",
    "    # filter 'plate only' detections\n",
    "    plate_only = []\n",
    "    for i in bboxes:\n",
    "        if i[4] == 'plate':\n",
    "            plate_only.append(i)\n",
    "    if not plate_only:\n",
    "        print('no plate detected in img')\n",
    "    if plate_only:\n",
    "        max_tuple = max(plate_only, key=lambda x:x[5].item()) # find the most probable plate detection\n",
    "        x1 = max_tuple[0]\n",
    "        y1 = max_tuple[1]\n",
    "        x2 = max_tuple[2]\n",
    "        y2 = max_tuple[3]\n",
    "        plate_crop = img[y1:y2, x1:x2]\n",
    "        # cv2.imshow('img', img)\n",
    "        # cv2.waitKey(0)\n",
    "        # cv2.imshow('img', plate_crop)\n",
    "        # cv2.waitKey(0)\n",
    "        return plate_crop"
   ]
  },
  {
   "cell_type": "code",
   "execution_count": null,
   "metadata": {},
   "outputs": [],
   "source": []
  },
  {
   "cell_type": "code",
   "execution_count": 12,
   "metadata": {},
   "outputs": [
    {
     "name": "stdout",
     "output_type": "stream",
     "text": [
      "[]\n"
     ]
    }
   ],
   "source": [
    "import glob\n",
    "import cv2\n",
    "root = r\"D:\\omer\\vehicleClassification\\entryImages\"\n",
    "image_files = glob.glob(root + \"/*.jpg\")\n",
    "print(image_files)\n",
    "\n",
    "for image_path in image_files:\n",
    "    file_parts = image_path.split('\\\\')[-1]\n",
    "    file_name_parts = file_parts.split('_')\n",
    "    vehicleSize = file_name_parts[1]\n",
    "    entryTime = file_name_parts[2].split('.')[0]  # Removing the file extension\n",
    "\n",
    "    img = cv2.imread(image_path)\n",
    "    plate_crop = read_license_plate_number(img, 0.5)\n",
    "    try:\n",
    "        plate_reading = detector_lpr.detect(plate_crop)\n",
    "    except Exception as e:\n",
    "        print('could not lpr, reason: ', e)\n",
    "    "
   ]
  },
  {
   "cell_type": "code",
   "execution_count": 3,
   "metadata": {},
   "outputs": [],
   "source": [
    "from reportlab.lib.pagesizes import letter\n",
    "from reportlab.pdfgen import canvas\n",
    "from datetime import datetime\n",
    "\n",
    "def generate_parking_ticket(vehicle_size, entry_time, plate_reading, image_path):\n",
    "    # Configure PDF file name and location\n",
    "    ticket_file_name = f\"D:\\\\omer\\\\parkingEntrance\\\\tickets\\\\Parking_Ticket_{plate_reading}.pdf\"\n",
    "    \n",
    "    # Create a PDF canvas\n",
    "    c = canvas.Canvas(ticket_file_name, pagesize=letter)\n",
    "    width, height = letter  # Get the dimensions of the page\n",
    "    \n",
    "    # Add title\n",
    "    c.setFont(\"Helvetica-Bold\", 35)\n",
    "    c.drawString(50, height - 100, \"Parking Ticket\")\n",
    "    \n",
    "    # Vehicle Size\n",
    "    c.setFont(\"Helvetica\", 20)\n",
    "    c.drawString(50, height - 140, f\"Vehicle Size: {vehicle_size}\")\n",
    "    \n",
    "    # Entry Time\n",
    "    c.drawString(50, height - 160, f\"Entry Time: {entry_time}\")\n",
    "    \n",
    "    # Plate Reading\n",
    "    c.drawString(50, height - 180, f\"License Plate: {plate_reading}\")\n",
    "    \n",
    "    # Vehicle Image\n",
    "    # Assuming the image is not too large and fits within the page. You might need to resize it.\n",
    "    c.drawImage(image_path, 50, height - 350, width=150, height=150, preserveAspectRatio=True, anchor='nw')\n",
    "    \n",
    "    # Save the PDF\n",
    "    c.showPage()\n",
    "    c.save()\n",
    "    print(f\"Parking ticket generated: {ticket_file_name}\")\n",
    "\n",
    "# Example usage\n",
    "# generate_parking_ticket(\"xx\", \"xx\", \"xxx\", r\"D:\\omer\\vehicleClassification\\entryImages\\frame1_small_12-21.jpg\")\n"
   ]
  },
  {
   "cell_type": "code",
   "execution_count": 7,
   "metadata": {},
   "outputs": [
    {
     "name": "stdout",
     "output_type": "stream",
     "text": [
      "\n",
      "0: 288x640 2 0s, 1 5, 1 A, 1 R, 1 X, 14.0ms\n",
      "Speed: 4.3ms preprocess, 14.0ms inference, 1.0ms postprocess per image at shape (1, 3, 288, 640)\n",
      "results of yolo_lpr:  6\n",
      "final_plate_str:  ARX500\n",
      "Parking ticket generated: D:\\omer\\parkingEntrance\\tickets\\Parking_Ticket_ARX500.pdf\n",
      "Printing parking ticket: D:\\omer\\parkingEntrance\\tickets\\Parking_Ticket_ARX500.pdf\n",
      "Print command executed. Please check your printer.\n",
      "waiting 2 secs before checking again\n"
     ]
    },
    {
     "ename": "KeyboardInterrupt",
     "evalue": "",
     "output_type": "error",
     "traceback": [
      "\u001b[1;31m---------------------------------------------------------------------------\u001b[0m",
      "\u001b[1;31mKeyboardInterrupt\u001b[0m                         Traceback (most recent call last)",
      "Cell \u001b[1;32mIn[7], line 42\u001b[0m\n\u001b[0;32m     38\u001b[0m         processed_images\u001b[38;5;241m.\u001b[39mappend(image_path)  \u001b[38;5;66;03m# Add the processed image path to the list\u001b[39;00m\n\u001b[0;32m     41\u001b[0m \u001b[38;5;28mprint\u001b[39m(\u001b[38;5;124m\"\u001b[39m\u001b[38;5;124mwaiting 2 secs before checking again\u001b[39m\u001b[38;5;124m\"\u001b[39m)   \n\u001b[1;32m---> 42\u001b[0m \u001b[43mtime\u001b[49m\u001b[38;5;241;43m.\u001b[39;49m\u001b[43msleep\u001b[49m\u001b[43m(\u001b[49m\u001b[38;5;241;43m2\u001b[39;49m\u001b[43m)\u001b[49m  \u001b[38;5;66;03m# Wait for 5 seconds before checking again\u001b[39;00m\n\u001b[0;32m     43\u001b[0m clear_output(wait\u001b[38;5;241m=\u001b[39m\u001b[38;5;28;01mTrue\u001b[39;00m)\n",
      "\u001b[1;31mKeyboardInterrupt\u001b[0m: "
     ]
    },
    {
     "ename": "",
     "evalue": "",
     "output_type": "error",
     "traceback": [
      "\u001b[1;31mThe Kernel crashed while executing code in the current cell or a previous cell. \n",
      "\u001b[1;31mPlease review the code in the cell(s) to identify a possible cause of the failure. \n",
      "\u001b[1;31mClick <a href='https://aka.ms/vscodeJupyterKernelCrash'>here</a> for more info. \n",
      "\u001b[1;31mView Jupyter <a href='command:jupyter.viewOutput'>log</a> for further details."
     ]
    }
   ],
   "source": [
    "import os\n",
    "import time\n",
    "from datetime import datetime\n",
    "from IPython.display import clear_output\n",
    "import glob\n",
    "import cv2\n",
    "\n",
    "root = r\"D:\\omer\\vehicleClassification\\entryImages\"\n",
    "processed_images = []\n",
    "\n",
    "while True:\n",
    "    image_files = glob.glob(root + \"/*.jpg\")\n",
    "    \n",
    "    if len(image_files) > 0:\n",
    "        for image_path in image_files:\n",
    "            if image_path in processed_images:\n",
    "                continue\n",
    "            \n",
    "            file_parts = image_path.split('\\\\')[-1]\n",
    "            file_name_parts = file_parts.split('_')\n",
    "            vehicleSize = file_name_parts[1]\n",
    "            entryTime = file_name_parts[2].split('.')[0]  # Removing the file extension\n",
    "            today = datetime.now().strftime(\"%Y-%m-%d\")\n",
    "            entryTime = today + \" \" + entryTime.replace('-', ':')\n",
    "\n",
    "            img = cv2.imread(image_path)\n",
    "            plate_crop = read_license_plate_number(img, 0.5)\n",
    "            try:\n",
    "                plate_reading = detector_lpr.detect(plate_crop)\n",
    "            except Exception as e:\n",
    "                print('could not lpr, reason: ', e)\n",
    "\n",
    "            generate_parking_ticket(vehicleSize, entryTime, plate_reading, image_path)\n",
    "            ticket_file_name = f\"D:\\\\omer\\\\parkingEntrance\\\\tickets\\\\Parking_Ticket_{plate_reading}.pdf\"\n",
    "            print(f\"Printing parking ticket: {ticket_file_name}\")\n",
    "            # print_pdf_windows(ticket_file_name, printer_name=r\"\\\\prn01\\Hp_q_eelab2\")\n",
    "            \n",
    "            processed_images.append(image_path)  # Add the processed image path to the list\n",
    "        \n",
    "          \n",
    "    print(\"waiting 2 secs before checking again\")   \n",
    "    time.sleep(2)  # Wait for 5 seconds before checking again\n",
    "    clear_output(wait=True)\n",
    "    "
   ]
  },
  {
   "cell_type": "code",
   "execution_count": 2,
   "metadata": {},
   "outputs": [
    {
     "name": "stdout",
     "output_type": "stream",
     "text": [
      "['D:\\\\omer\\\\vehicleClassification\\\\entryImages\\\\frame1_medium_12-11.jpg', 'D:\\\\omer\\\\vehicleClassification\\\\entryImages\\\\frame2_small_12-11.jpg', 'D:\\\\omer\\\\vehicleClassification\\\\entryImages\\\\frame3_small_12-12.jpg']\n"
     ]
    }
   ],
   "source": [
    "import glob\n",
    "root = r\"D:\\omer\\vehicleClassification\\entryImages\"\n",
    "image_files = glob.glob(root + \"/*.jpg\")\n",
    "print(image_files)\n"
   ]
  },
  {
   "cell_type": "code",
   "execution_count": 4,
   "metadata": {},
   "outputs": [],
   "source": [
    "import win32api\n",
    "import win32print\n",
    "import win32con\n",
    "\n",
    "def print_pdf_windows(pdf_file_path, printer_name=None):\n",
    "    try:\n",
    "        if printer_name is None:\n",
    "            printer_name = win32print.GetDefaultPrinter()\n",
    "        # Attempt to print the PDF\n",
    "        win32api.ShellExecute(\n",
    "            0,\n",
    "            \"printTo\",\n",
    "            pdf_file_path,\n",
    "            f'\"{printer_name}\"',\n",
    "            \".\",\n",
    "            win32con.SW_HIDE,\n",
    "        )\n",
    "        print(\"Print command executed. Please check your printer.\")\n",
    "    except Exception as e:\n",
    "        print(f\"Failed to print: {e}\")\n",
    "\n",
    "# Example usage\n",
    "# pdf_file_path = r\"D:\\omer\\parkingEntrance\\tickets\\Parking_Ticket_xx.pdf\"  # Update this to your PDF file path\n",
    "# print_pdf_windows(pdf_file_path, printer_name=r\"\\\\prn01\\Hp_q_eelab2\")\n"
   ]
  }
 ],
 "metadata": {
  "kernelspec": {
   "display_name": "yoloVENV",
   "language": "python",
   "name": "python3"
  },
  "language_info": {
   "codemirror_mode": {
    "name": "ipython",
    "version": 3
   },
   "file_extension": ".py",
   "mimetype": "text/x-python",
   "name": "python",
   "nbconvert_exporter": "python",
   "pygments_lexer": "ipython3",
   "version": "3.11.8"
  }
 },
 "nbformat": 4,
 "nbformat_minor": 2
}
